{
 "cells": [
  {
   "cell_type": "code",
   "execution_count": 1,
   "metadata": {},
   "outputs": [
    {
     "name": "stderr",
     "output_type": "stream",
     "text": [
      "/home/ma-user/anaconda3/envs/MindSpore/lib/python3.9/site-packages/numpy/core/getlimits.py:499: UserWarning: The value of the smallest subnormal for <class 'numpy.float64'> type is zero.\n",
      "  setattr(self, word, getattr(machar, word).flat[0])\n",
      "/home/ma-user/anaconda3/envs/MindSpore/lib/python3.9/site-packages/numpy/core/getlimits.py:89: UserWarning: The value of the smallest subnormal for <class 'numpy.float64'> type is zero.\n",
      "  return self._float_to_str(self.smallest_subnormal)\n",
      "/home/ma-user/anaconda3/envs/MindSpore/lib/python3.9/site-packages/numpy/core/getlimits.py:499: UserWarning: The value of the smallest subnormal for <class 'numpy.float32'> type is zero.\n",
      "  setattr(self, word, getattr(machar, word).flat[0])\n",
      "/home/ma-user/anaconda3/envs/MindSpore/lib/python3.9/site-packages/numpy/core/getlimits.py:89: UserWarning: The value of the smallest subnormal for <class 'numpy.float32'> type is zero.\n",
      "  return self._float_to_str(self.smallest_subnormal)\n"
     ]
    }
   ],
   "source": [
    "import numpy as np\n",
    "from matplotlib import pyplot as plt\n",
    "from utils import pendulum as solution\n",
    "np.random.seed(514)"
   ]
  },
  {
   "cell_type": "code",
   "execution_count": 2,
   "metadata": {},
   "outputs": [],
   "source": [
    "# Generate training data\n",
    "tmax = 10\n",
    "A0 = 1\n",
    "delta0 = 0\n",
    "m = 1\n",
    "\n",
    "train_outputs = []\n",
    "train_inputs = []\n",
    "data = []\n",
    "N_TRAIN = 100000\n",
    "\n",
    "N_SAMPLE = 50\n",
    "\n",
    "counter = 0\n",
    "while len(train_inputs) < N_TRAIN:\n",
    "\n",
    "    b = np.random.uniform(0.5,1)\n",
    "    k = np.random.uniform(5,10)\n",
    "    tprime = np.random.uniform(0,tmax)\n",
    "    question = tprime\n",
    "    answer = solution(tprime,A0,delta0,k,b,m)\n",
    "    if answer == None:\n",
    "        continue\n",
    "\n",
    "    t_arr = np.linspace(0,tmax,N_SAMPLE)\n",
    "    x = solution(t_arr,A0,delta0,k,b,m)\n",
    "    \n",
    "    combined_inputs = np.append(x, question)\n",
    "    train_inputs.append( combined_inputs )\n",
    "    train_outputs.append( answer )\n",
    "\n",
    "\n",
    "train_inputs = np.array(train_inputs)\n",
    "train_outputs = np.array(train_outputs)\n",
    "np.save(\"training_data/inputs.npy\", train_inputs)\n",
    "np.save(\"training_data/outputs.npy\", train_outputs)\n"
   ]
  },
  {
   "cell_type": "code",
   "execution_count": 3,
   "metadata": {},
   "outputs": [
    {
     "name": "stdout",
     "output_type": "stream",
     "text": [
      "question: 1.123918463443948\n",
      "answer: -0.6195351068147252\n"
     ]
    },
    {
     "data": {
      "image/png": "[encoded data removed]",
      "text/plain": [
       "<Figure size 640x480 with 1 Axes>"
      ]
     },
     "metadata": {},
     "output_type": "display_data"
    }
   ],
   "source": [
    "# Plot example training input\n",
    "plt.plot(train_inputs[0][0:-1],\".\")\n",
    "print(\"question:\",train_inputs[0][-1])\n",
    "print(\"answer:\",train_outputs[0])"
   ]
  },
  {
   "cell_type": "code",
   "execution_count": null,
   "metadata": {},
   "outputs": [],
   "source": []
  }
 ],
 "metadata": {
  "kernelspec": {
   "display_name": "Python 3",
   "language": "python",
   "name": "python3"
  },
  "language_info": {
   "codemirror_mode": {
    "name": "ipython",
    "version": 3
   },
   "file_extension": ".py",
   "mimetype": "text/x-python",
   "name": "python",
   "nbconvert_exporter": "python",
   "pygments_lexer": "ipython3",
   "version": "3.9.10"
  }
 },
 "nbformat": 4,
 "nbformat_minor": 2
}
