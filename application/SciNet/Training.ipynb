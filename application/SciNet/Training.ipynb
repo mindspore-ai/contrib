{
 "cells": [
  {
   "cell_type": "code",
   "execution_count": 3,
   "metadata": {},
   "outputs": [],
   "source": [
    "import numpy as np\n",
    "import mindspore\n",
    "import mindspore.nn as nn\n",
    "import mindspore.dataset as ds\n",
    "from matplotlib import pyplot as plt\n",
    "from models import SciNet\n",
    "from utils import target_loss \n",
    "mindspore.set_context(device_target='Ascend', device_id=0)\n",
    "mindspore.set_seed(114)"
   ]
  },
  {
   "cell_type": "code",
   "execution_count": 4,
   "metadata": {
    "scrolled": false
   },
   "outputs": [],
   "source": [
    "# Setup scinet model with 3 latent neurons\n",
    "scinet = SciNet(50,1,3,64)\n",
    "\n",
    "# build DataLoader\n",
    "inputs = np.load(\"training_data/inputs.npy\") \n",
    "outputs =np.load(\"training_data/outputs.npy\")\n",
    "traindata = ds.NumpySlicesDataset((inputs, outputs), column_names=[\"inputs\", \"outputs\"])\n",
    "traindata = traindata.batch(batch_size=256, drop_remainder=True)  \n",
    "traindata = traindata.shuffle(buffer_size=len(inputs)) "
   ]
  },
  {
   "cell_type": "code",
   "execution_count": 5,
   "metadata": {},
   "outputs": [],
   "source": [
    "#prepare for training\n",
    "optimizer = nn.Adam(scinet.trainable_params())   \n",
    "def get_loss(data,beta,label):\n",
    "    pred = scinet(data)\n",
    "    loss = target_loss(pred, label) + beta * scinet.kl_loss\n",
    "    return loss,pred\n",
    "grad_fn = mindspore.value_and_grad(get_loss, None, optimizer.parameters,has_aux = True)\n",
    "def train_step(data,beta, label):\n",
    "    (loss,pred), grads = grad_fn(data, beta,label)\n",
    "    optimizer(grads)\n",
    "    return loss,pred"
   ]
  },
  {
   "cell_type": "code",
   "execution_count": 6,
   "metadata": {
    "scrolled": true
   },
   "outputs": [
    {
     "name": "stdout",
     "output_type": "stream",
     "text": [
      "Epoch 1 -- loss 16.344576, RMS error 0.168618 \n",
      "Epoch 2 -- loss 6.857275, RMS error 0.120455 \n",
      "Epoch 3 -- loss 3.815038, RMS error 0.093206 \n",
      "Epoch 4 -- loss 2.648779, RMS error 0.078950 \n",
      "Epoch 5 -- loss 2.059759, RMS error 0.071050 \n",
      "Epoch 6 -- loss 1.699123, RMS error 0.065189 \n",
      "Epoch 7 -- loss 1.439774, RMS error 0.060637 \n",
      "Epoch 8 -- loss 1.284662, RMS error 0.058143 \n",
      "Epoch 9 -- loss 1.190394, RMS error 0.056391 \n",
      "Epoch 10 -- loss 1.124591, RMS error 0.055041 \n",
      "Epoch 11 -- loss 1.060289, RMS error 0.053556 \n",
      "Epoch 12 -- loss 1.000251, RMS error 0.052117 \n",
      "Epoch 13 -- loss 0.943385, RMS error 0.050740 \n",
      "Epoch 14 -- loss 0.880403, RMS error 0.049125 \n",
      "Epoch 15 -- loss 0.833748, RMS error 0.048133 \n",
      "Epoch 16 -- loss 0.787347, RMS error 0.046873 \n",
      "Epoch 17 -- loss 0.755657, RMS error 0.046226 \n",
      "Epoch 18 -- loss 0.721632, RMS error 0.045309 \n",
      "Epoch 19 -- loss 0.702333, RMS error 0.044823 \n",
      "Epoch 20 -- loss 0.682345, RMS error 0.044338 \n",
      "Epoch 21 -- loss 0.661135, RMS error 0.043923 \n",
      "Epoch 22 -- loss 0.641688, RMS error 0.043209 \n",
      "Epoch 23 -- loss 0.619543, RMS error 0.042669 \n",
      "Epoch 24 -- loss 0.611535, RMS error 0.042382 \n",
      "Epoch 25 -- loss 0.602435, RMS error 0.042063 \n",
      "Epoch 26 -- loss 0.586940, RMS error 0.041628 \n",
      "Epoch 27 -- loss 0.573523, RMS error 0.041102 \n",
      "Epoch 28 -- loss 0.560113, RMS error 0.040660 \n",
      "Epoch 29 -- loss 0.551385, RMS error 0.040144 \n",
      "Epoch 30 -- loss 0.537042, RMS error 0.039605 \n",
      "Epoch 31 -- loss 0.524562, RMS error 0.039126 \n",
      "Epoch 32 -- loss 0.513501, RMS error 0.038762 \n",
      "Epoch 33 -- loss 0.497669, RMS error 0.038015 \n",
      "Epoch 34 -- loss 0.491767, RMS error 0.037811 \n",
      "Epoch 35 -- loss 0.469073, RMS error 0.036943 \n",
      "Epoch 36 -- loss 0.461018, RMS error 0.036560 \n",
      "Epoch 37 -- loss 0.449984, RMS error 0.036109 \n",
      "Epoch 38 -- loss 0.437091, RMS error 0.035590 \n",
      "Epoch 39 -- loss 0.427281, RMS error 0.035236 \n",
      "Epoch 40 -- loss 0.415932, RMS error 0.034702 \n",
      "Epoch 41 -- loss 0.412666, RMS error 0.034578 \n",
      "Epoch 42 -- loss 0.399800, RMS error 0.033984 \n",
      "Epoch 43 -- loss 0.392369, RMS error 0.033700 \n",
      "Epoch 44 -- loss 0.386072, RMS error 0.033507 \n",
      "Epoch 45 -- loss 0.381248, RMS error 0.033269 \n",
      "Epoch 46 -- loss 0.371284, RMS error 0.032796 \n",
      "Epoch 47 -- loss 0.368537, RMS error 0.032728 \n",
      "Epoch 48 -- loss 0.361129, RMS error 0.032402 \n",
      "Epoch 49 -- loss 0.357901, RMS error 0.032227 \n",
      "Epoch 50 -- loss 0.352267, RMS error 0.031916 \n",
      "Epoch 51 -- loss 0.345326, RMS error 0.031631 \n",
      "Epoch 52 -- loss 0.349475, RMS error 0.031883 \n",
      "Epoch 53 -- loss 0.342764, RMS error 0.031584 \n",
      "Epoch 54 -- loss 0.331702, RMS error 0.031100 \n",
      "Epoch 55 -- loss 0.333108, RMS error 0.031055 \n",
      "Epoch 56 -- loss 0.327999, RMS error 0.030835 \n",
      "Epoch 57 -- loss 0.323009, RMS error 0.030591 \n",
      "Epoch 58 -- loss 0.324411, RMS error 0.030630 \n",
      "Epoch 59 -- loss 0.320658, RMS error 0.030416 \n",
      "Epoch 60 -- loss 0.309218, RMS error 0.029937 \n",
      "Epoch 61 -- loss 0.316207, RMS error 0.030264 \n",
      "Epoch 62 -- loss 0.308241, RMS error 0.029859 \n",
      "Epoch 63 -- loss 0.298197, RMS error 0.029354 \n",
      "Epoch 64 -- loss 0.303551, RMS error 0.029718 \n",
      "Epoch 65 -- loss 0.302362, RMS error 0.029617 \n",
      "Epoch 66 -- loss 0.295987, RMS error 0.029333 \n",
      "Epoch 67 -- loss 0.292216, RMS error 0.029208 \n",
      "Epoch 68 -- loss 0.294133, RMS error 0.029212 \n",
      "Epoch 69 -- loss 0.288551, RMS error 0.029016 \n",
      "Epoch 70 -- loss 0.288899, RMS error 0.028969 \n",
      "Epoch 71 -- loss 0.280004, RMS error 0.028500 \n",
      "Epoch 72 -- loss 0.286789, RMS error 0.028759 \n",
      "Epoch 73 -- loss 0.280850, RMS error 0.028550 \n",
      "Epoch 74 -- loss 0.280993, RMS error 0.028616 \n",
      "Epoch 75 -- loss 0.283575, RMS error 0.028681 \n",
      "Epoch 76 -- loss 0.273104, RMS error 0.028143 \n",
      "Epoch 77 -- loss 0.273903, RMS error 0.028215 \n",
      "Epoch 78 -- loss 0.271844, RMS error 0.028096 \n",
      "Epoch 79 -- loss 0.273313, RMS error 0.028124 \n",
      "Epoch 80 -- loss 0.267984, RMS error 0.027922 \n",
      "Epoch 81 -- loss 0.272326, RMS error 0.028013 \n",
      "Epoch 82 -- loss 0.266701, RMS error 0.027835 \n",
      "Epoch 83 -- loss 0.271307, RMS error 0.028072 \n",
      "Epoch 84 -- loss 0.263829, RMS error 0.027635 \n",
      "Epoch 85 -- loss 0.267354, RMS error 0.027969 \n",
      "Epoch 86 -- loss 0.264294, RMS error 0.027775 \n",
      "Epoch 87 -- loss 0.258150, RMS error 0.027444 \n",
      "Epoch 88 -- loss 0.263915, RMS error 0.027833 \n",
      "Epoch 89 -- loss 0.257952, RMS error 0.027454 \n",
      "Epoch 90 -- loss 0.259339, RMS error 0.027423 \n",
      "Epoch 91 -- loss 0.254813, RMS error 0.027293 \n",
      "Epoch 92 -- loss 0.258756, RMS error 0.027496 \n",
      "Epoch 93 -- loss 0.255010, RMS error 0.027209 \n",
      "Epoch 94 -- loss 0.252810, RMS error 0.027138 \n",
      "Epoch 95 -- loss 0.257501, RMS error 0.027438 \n",
      "Epoch 96 -- loss 0.252474, RMS error 0.027149 \n",
      "Epoch 97 -- loss 0.253562, RMS error 0.027242 \n",
      "Epoch 98 -- loss 0.253999, RMS error 0.027292 \n",
      "Epoch 99 -- loss 0.247873, RMS error 0.027034 \n",
      "Epoch 100 -- loss 0.251239, RMS error 0.027232 \n",
      "Model saved to trained_models/scinet1.ckpt\n"
     ]
    }
   ],
   "source": [
    "# Training setup\n",
    "SAVE_PATH = \"trained_models/scinet1.ckpt\"\n",
    "N_EPOCHS = 100\n",
    "hist_error = []\n",
    "hist_loss = []\n",
    "beta = 0.5\n",
    "\n",
    "# Training loop\n",
    "for epoch in range(N_EPOCHS):  \n",
    "    \n",
    "    #record the training process\n",
    "    epoch_error = []\n",
    "    epoch_loss = []\n",
    "    \n",
    "    for i_batch, minibatch in enumerate(traindata.create_tuple_iterator()):\n",
    "        #Model training\n",
    "        inputs, outputs = minibatch\n",
    "        inputs = inputs.astype(mindspore.float32)\n",
    "        outputs = outputs.astype(mindspore.float32)\n",
    "        loss,pred = train_step(inputs,beta,outputs)\n",
    "        #record the training process\n",
    "        error = mindspore.ops.mean(mindspore.ops.sqrt((pred[:,0]-outputs)**2)).numpy()\n",
    "        epoch_error.append(error)\n",
    "        epoch_loss.append(loss.numpy())\n",
    "    hist_error.append(np.mean(epoch_error))\n",
    "    hist_loss.append(np.mean(epoch_loss))\n",
    "    print(\"Epoch %d -- loss %f, RMS error %f \" % (epoch+1, hist_loss[-1], hist_error[-1]))\n",
    "#save model\n",
    "mindspore.save_checkpoint(scinet, SAVE_PATH)\n",
    "print(\"Model saved to %s\" % SAVE_PATH)"
   ]
  },
  {
   "cell_type": "code",
   "execution_count": 7,
   "metadata": {},
   "outputs": [
    {
     "data": {
      "image/png": "[encoded data removed]",
      "text/plain": [
       "<Figure size 640x480 with 2 Axes>"
      ]
     },
     "metadata": {},
     "output_type": "display_data"
    }
   ],
   "source": [
    "# Plot some training history data\n",
    "%matplotlib inline \n",
    "f, (ax1, ax2) = plt.subplots(2, 1, sharex=True)\n",
    "ax1.plot(hist_error)\n",
    "ax1.set_ylabel(\"Amplitude RMSE\")\n",
    "ax2.plot(hist_loss)\n",
    "ax2.set_ylabel(\"Loss\")\n",
    "ax2.set_xlabel(\"Epoch\")\n",
    "plt.show()"
   ]
  },
  {
   "cell_type": "code",
   "execution_count": null,
   "metadata": {},
   "outputs": [],
   "source": []
  }
 ],
 "metadata": {
  "kernelspec": {
   "display_name": "Python 3",
   "language": "python",
   "name": "python3"
  },
  "language_info": {
   "codemirror_mode": {
    "name": "ipython",
    "version": 3
   },
   "file_extension": ".py",
   "mimetype": "text/x-python",
   "name": "python",
   "nbconvert_exporter": "python",
   "pygments_lexer": "ipython3",
   "version": "3.9.10"
  }
 },
 "nbformat": 4,
 "nbformat_minor": 2
}
