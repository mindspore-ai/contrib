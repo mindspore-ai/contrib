{
 "cells": [
  {
   "cell_type": "code",
   "execution_count": 1,
   "metadata": {},
   "outputs": [
    {
     "name": "stderr",
     "output_type": "stream",
     "text": [
      "/home/ma-user/anaconda3/envs/MindSpore/lib/python3.9/site-packages/numpy/core/getlimits.py:499: UserWarning: The value of the smallest subnormal for <class 'numpy.float64'> type is zero.\n",
      "  setattr(self, word, getattr(machar, word).flat[0])\n",
      "/home/ma-user/anaconda3/envs/MindSpore/lib/python3.9/site-packages/numpy/core/getlimits.py:89: UserWarning: The value of the smallest subnormal for <class 'numpy.float64'> type is zero.\n",
      "  return self._float_to_str(self.smallest_subnormal)\n",
      "/home/ma-user/anaconda3/envs/MindSpore/lib/python3.9/site-packages/numpy/core/getlimits.py:499: UserWarning: The value of the smallest subnormal for <class 'numpy.float32'> type is zero.\n",
      "  setattr(self, word, getattr(machar, word).flat[0])\n",
      "/home/ma-user/anaconda3/envs/MindSpore/lib/python3.9/site-packages/numpy/core/getlimits.py:89: UserWarning: The value of the smallest subnormal for <class 'numpy.float32'> type is zero.\n",
      "  return self._float_to_str(self.smallest_subnormal)\n"
     ]
    }
   ],
   "source": [
    "import mindspore\n",
    "from mindspore import nn, ops\n",
    "from mindspore.dataset import MnistDataset, FashionMnistDataset, vision, transforms\n",
    "from elastic_weight_consolidation import ElasticWeightConsolidation"
   ]
  },
  {
   "cell_type": "code",
   "execution_count": 2,
   "metadata": {},
   "outputs": [],
   "source": [
    "image_transforms = [\n",
    "                    vision.Rescale(1.0 / 255.0, 0),\n",
    "                    #vision.Normalize(mean = (0.1307, ), std = (0.3081, )),\n",
    "                    vision.HWC2CHW()\n",
    "]\n",
    "label_transform = transforms.TypeCast(mindspore.int32)\n",
    "mnist_train = MnistDataset(\"MNIST_Data/train\", usage = \"train\", shuffle = True)\n",
    "mnist_train = mnist_train.map(image_transforms, 'image')\n",
    "mnist_train = mnist_train.map(label_transform, 'label')\n",
    "mnist_train = mnist_train.batch(100)\n",
    "mnist_test = MnistDataset(\"MNIST_Data/test\", usage = \"test\", shuffle = False)\n",
    "mnist_test = mnist_test.map(image_transforms, 'image')\n",
    "mnist_test = mnist_test.map(label_transform, 'label')\n",
    "mnist_test = mnist_test.batch(100)"
   ]
  },
  {
   "cell_type": "code",
   "execution_count": 3,
   "metadata": {},
   "outputs": [],
   "source": [
    "class LinearLayer(nn.Cell):\n",
    "    \n",
    "    def __init__(self, input_dim, output_dim, act = 'relu', use_bn = False):\n",
    "        super(LinearLayer, self).__init__()\n",
    "        self.use_bn = use_bn\n",
    "        self.lin = nn.Dense(input_dim, output_dim)\n",
    "        self.act = nn.ReLU() if act == 'relu' else act\n",
    "        if use_bn:\n",
    "            self.bn = nn.BatchNorm1d(output_dim)\n",
    "            \n",
    "    def construct(self, x):\n",
    "        if self.use_bn:\n",
    "            return self.bn(self.act(self.lin(x)))\n",
    "        return self.act(self.lin(x))\n",
    "\n",
    "class Flatten(nn.Cell):\n",
    "\n",
    "    def construct(self, x):\n",
    "        return x.view(x.shape[0], -1)"
   ]
  },
  {
   "cell_type": "code",
   "execution_count": 4,
   "metadata": {},
   "outputs": [],
   "source": [
    "class BaseModel(nn.Cell):\n",
    "    \n",
    "    def __init__(self, num_inputs, num_hidden, num_outputs):\n",
    "        super(BaseModel, self).__init__()\n",
    "        self.f1 = Flatten()\n",
    "        self.lin1 = LinearLayer(num_inputs, num_hidden, use_bn = True)\n",
    "        self.lin2 = LinearLayer(num_hidden, num_hidden, use_bn = True)\n",
    "        self.lin3 = nn.Dense(num_hidden, num_outputs)\n",
    "        \n",
    "    def construct(self, x):\n",
    "        return self.lin3(self.lin2(self.lin1(self.f1(x))))"
   ]
  },
  {
   "cell_type": "code",
   "execution_count": 5,
   "metadata": {},
   "outputs": [],
   "source": [
    "crit = nn.CrossEntropyLoss()"
   ]
  },
  {
   "cell_type": "code",
   "execution_count": 6,
   "metadata": {},
   "outputs": [],
   "source": [
    "ewc = ElasticWeightConsolidation(BaseModel(28 * 28, 100, 10), crit = crit, lr = 1e-4)"
   ]
  },
  {
   "cell_type": "code",
   "execution_count": 7,
   "metadata": {},
   "outputs": [],
   "source": [
    "from tqdm import tqdm"
   ]
  },
  {
   "cell_type": "code",
   "execution_count": 8,
   "metadata": {},
   "outputs": [
    {
     "name": "stderr",
     "output_type": "stream",
     "text": [
      "600it [00:14, 40.11it/s]\n",
      "600it [00:07, 77.80it/s]\n",
      "600it [00:07, 76.44it/s]\n",
      "600it [00:07, 78.07it/s]\n"
     ]
    }
   ],
   "source": [
    "for _ in range(4):\n",
    "    for input, target in tqdm(mnist_train.create_tuple_iterator()):\n",
    "        ewc.forward_backward_update(input, target)"
   ]
  },
  {
   "cell_type": "code",
   "execution_count": 9,
   "metadata": {},
   "outputs": [
    {
     "name": "stdout",
     "output_type": "stream",
     "text": [
      "-\r"
     ]
    }
   ],
   "source": [
    "ewc.register_ewc_params(mnist_train, 100, 300)"
   ]
  },
  {
   "cell_type": "code",
   "execution_count": 10,
   "metadata": {},
   "outputs": [],
   "source": [
    "f_mnist_train = FashionMnistDataset(\"FashionMNIST_Data/train\", usage = \"train\", shuffle = True)\n",
    "f_mnist_train = f_mnist_train.map(image_transforms, 'image')\n",
    "f_mnist_train = f_mnist_train.map(label_transform, 'label')\n",
    "f_mnist_train = f_mnist_train.batch(100)\n",
    "f_mnist_test = FashionMnistDataset(\"FashionMNIST_Data/test\", usage = \"test\", shuffle = False)\n",
    "f_mnist_test = f_mnist_test.map(image_transforms, 'image')\n",
    "f_mnist_test = f_mnist_test.map(label_transform, 'label')\n",
    "f_mnist_test = f_mnist_test.batch(100)"
   ]
  },
  {
   "cell_type": "code",
   "execution_count": 11,
   "metadata": {},
   "outputs": [
    {
     "name": "stderr",
     "output_type": "stream",
     "text": [
      "600it [00:17, 35.11it/s]\n",
      "600it [00:16, 36.59it/s]\n",
      "600it [00:16, 37.12it/s]\n",
      "600it [00:15, 38.26it/s]\n"
     ]
    }
   ],
   "source": [
    "for _ in range(4):\n",
    "    for input, target in tqdm(f_mnist_train.create_tuple_iterator()):\n",
    "        ewc.forward_backward_update(input, target)"
   ]
  },
  {
   "cell_type": "code",
   "execution_count": 12,
   "metadata": {},
   "outputs": [],
   "source": [
    "ewc.register_ewc_params(f_mnist_train, 100, 300)"
   ]
  },
  {
   "cell_type": "code",
   "execution_count": 13,
   "metadata": {},
   "outputs": [],
   "source": [
    "def accu(model, dataset):\n",
    "    model.set_train(False)\n",
    "    acc = 0\n",
    "    for input, target in dataset.create_tuple_iterator():\n",
    "        o = model(input)\n",
    "        acc += (o.argmax(axis = 1).long() == target).float().mean()\n",
    "    return acc / dataset.get_batch_size()"
   ]
  },
  {
   "cell_type": "code",
   "execution_count": 14,
   "metadata": {},
   "outputs": [
    {
     "name": "stdout",
     "output_type": "stream",
     "text": [
      "\\\r"
     ]
    },
    {
     "data": {
      "text/plain": [
       "Tensor(shape=[], dtype=Float32, value= 0.8171)"
      ]
     },
     "execution_count": 14,
     "metadata": {},
     "output_type": "execute_result"
    }
   ],
   "source": [
    "accu(ewc.model, f_mnist_test)"
   ]
  },
  {
   "cell_type": "code",
   "execution_count": 15,
   "metadata": {},
   "outputs": [
    {
     "data": {
      "text/plain": [
       "Tensor(shape=[], dtype=Float32, value= 0.649)"
      ]
     },
     "execution_count": 15,
     "metadata": {},
     "output_type": "execute_result"
    }
   ],
   "source": [
    "accu(ewc.model, mnist_test)"
   ]
  }
 ],
 "metadata": {
  "kernelspec": {
   "display_name": "MindSpore",
   "language": "python",
   "name": "mindspore"
  },
  "language_info": {
   "codemirror_mode": {
    "name": "ipython",
    "version": 3
   },
   "file_extension": ".py",
   "mimetype": "text/x-python",
   "name": "python",
   "nbconvert_exporter": "python",
   "pygments_lexer": "ipython3",
   "version": "3.9.10"
  }
 },
 "nbformat": 4,
 "nbformat_minor": 4
}
